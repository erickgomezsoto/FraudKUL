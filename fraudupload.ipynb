{
 "cells": [
  {
   "cell_type": "code",
   "execution_count": 37,
   "id": "20ad7209",
   "metadata": {},
   "outputs": [],
   "source": [
    "from sklearn.model_selection import train_test_split\n",
    "from sklearn.preprocessing import StandardScaler\n",
    "from sklearn.decomposition import PCA\n",
    "from sklearn.tree import DecisionTreeClassifier\n",
    "import numpy as np # linear algebra\n",
    "import pandas as pd # data processing, CSV file I/O (e.g. pd.read_csv)\n",
    "from sklearn.pipeline import Pipeline\n",
    "import seaborn as sns\n",
    "from sklearn.base import BaseEstimator\n",
    "from sklearn.compose import ColumnTransformer \n",
    "from sklearn.impute import SimpleImputer\n",
    "from sklearn.preprocessing import StandardScaler\n",
    "from sklearn.ensemble import RandomForestRegressor\n",
    "from sklearn.metrics import mean_squared_error\n",
    "import matplotlib.pyplot as plt\n",
    "%matplotlib inline\n",
    "import pandas as pd\n",
    "import numpy as np\n",
    "from sklearn.base import BaseEstimator, TransformerMixin\n",
    "from sklearn.pipeline import Pipeline\n",
    "from sklearn.linear_model import LinearRegression\n",
    "from sklearn.metrics import mean_squared_error\n",
    "from sklearn.compose import ColumnTransformer\n",
    "from sklearn.impute import SimpleImputer\n",
    "import featuretools.variable_types as vtypes\n",
    "import seaborn as sns\n",
    "from decimal import Decimal\n",
    "from math import  modf\n",
    "from sklearn.preprocessing import LabelEncoder, OneHotEncoder\n",
    "from sklearn.metrics import accuracy_score, confusion_matrix, classification_report\n",
    "from sklearn.ensemble import RandomForestClassifier\n",
    "from sklearn.model_selection import GridSearchCV\n",
    "from numpy import mean\n",
    "#from sklearn.datasets import make_classification\n",
    "from sklearn.model_selection import cross_val_score\n",
    "from sklearn.model_selection import RepeatedStratifiedKFold\n",
    "from imblearn.ensemble import EasyEnsembleClassifier\n",
    "from sklearn.metrics import balanced_accuracy_score"
   ]
  },
  {
   "cell_type": "markdown",
   "id": "f93e5424",
   "metadata": {},
   "source": [
    "#### Readin the data"
   ]
  },
  {
   "cell_type": "code",
   "execution_count": 106,
   "id": "15ad1420",
   "metadata": {},
   "outputs": [],
   "source": [
    "#read csv file\n",
    "df = pd.read_csv('train.csv', sep=';') \n",
    "dftest = pd.read_csv('test.csv', sep=';')\n"
   ]
  },
  {
   "cell_type": "code",
   "execution_count": 116,
   "id": "a6b0b774",
   "metadata": {},
   "outputs": [],
   "source": [
    "test_claim_id = dftest.claim_id.to_numpy() # saving the id so we can uploat to the leader board"
   ]
  },
  {
   "cell_type": "markdown",
   "id": "d7c98d67",
   "metadata": {},
   "source": [
    "#### Anomoulous values in claim_vehicle_load\n",
    "The vehicule load is unlikely to be a number above 100. Only one observation had a value of 500. Therefore we replace all the values above 20 with missing."
   ]
  },
  {
   "cell_type": "code",
   "execution_count": 3,
   "id": "ca7f521d",
   "metadata": {},
   "outputs": [
    {
     "data": {
      "text/plain": [
       "35617    500.00\n",
       "20096      5.50\n",
       "8673       5.49\n",
       "13984      4.60\n",
       "40231      4.60\n",
       "Name: claim_vehicle_load, dtype: float64"
      ]
     },
     "execution_count": 3,
     "metadata": {},
     "output_type": "execute_result"
    }
   ],
   "source": [
    "df[\"claim_vehicle_load\"].nlargest(5)"
   ]
  },
  {
   "cell_type": "code",
   "execution_count": 4,
   "id": "b3d92602",
   "metadata": {},
   "outputs": [
    {
     "data": {
      "image/png": "[encoded data removed]",
      "text/plain": [
       "<Figure size 432x288 with 1 Axes>"
      ]
     },
     "metadata": {},
     "output_type": "display_data"
    }
   ],
   "source": [
    "df.loc[(df.claim_vehicle_load > 20),'claim_vehicle_load']= np.nan\n",
    "sns.set_theme(style=\"whitegrid\")\n",
    "ax = sns.violinplot(x=df[\"claim_vehicle_load\"])"
   ]
  },
  {
   "cell_type": "code",
   "execution_count": 51,
   "id": "8abdd0c4",
   "metadata": {},
   "outputs": [
    {
     "data": {
      "text/plain": [
       "18715    6.5\n",
       "12078    4.6\n",
       "31       3.5\n",
       "92       3.5\n",
       "367      3.5\n",
       "Name: claim_vehicle_load, dtype: float64"
      ]
     },
     "execution_count": 51,
     "metadata": {},
     "output_type": "execute_result"
    }
   ],
   "source": [
    "dftest[\"claim_vehicle_load\"].nlargest(5) #no problems in the test data"
   ]
  },
  {
   "cell_type": "markdown",
   "id": "4b33d9e7",
   "metadata": {},
   "source": [
    "**Create features about time (year, month, day, dayoftheweek)**\n",
    "\n",
    "The following features contain a date and they should create additional features accordingly."
   ]
  },
  {
   "cell_type": "code",
   "execution_count": 5,
   "id": "ba9a0177",
   "metadata": {},
   "outputs": [
    {
     "name": "stdout",
     "output_type": "stream",
     "text": [
      "['claim_date_registered', 'claim_date_occured', 'claim_vehicle_date_inuse', 'policy_date_start', 'policy_date_next_expiry', 'policy_date_last_renewed']\n"
     ]
    }
   ],
   "source": [
    "date_cols = [col for col in df.columns if 'date' in col]\n",
    "print(date_cols)"
   ]
  },
  {
   "cell_type": "code",
   "execution_count": 53,
   "id": "6a08052b",
   "metadata": {},
   "outputs": [
    {
     "name": "stdout",
     "output_type": "stream",
     "text": [
      "['claim_date_registered', 'claim_date_occured', 'claim_vehicle_date_inuse', 'policy_date_start', 'policy_date_next_expiry', 'policy_date_last_renewed']\n"
     ]
    }
   ],
   "source": [
    "date_cols_dftest = [col for col in dftest.columns if 'date' in col]\n",
    "print(date_cols_dftest)"
   ]
  },
  {
   "cell_type": "markdown",
   "id": "aa340746",
   "metadata": {},
   "source": [
    "These features might contain date values out of bounds, so we replace those for missing and later change to date format."
   ]
  },
  {
   "cell_type": "code",
   "execution_count": 6,
   "id": "0ee9e339",
   "metadata": {},
   "outputs": [],
   "source": [
    "top_date1=20300101\n",
    "top_date2=203001\n",
    "df.loc[(df.claim_date_registered > top_date1),'claim_date_registered']= np.nan\n",
    "df.loc[(df.claim_date_occured > top_date1),'claim_date_occured']= np.nan\n",
    "df.loc[(df.claim_vehicle_date_inuse > top_date2),'claim_vehicle_date_inuse']= np.nan\n",
    "df.loc[(df.policy_date_start > top_date2),'policy_date_start']= np.nan\n",
    "df.loc[(df.policy_date_next_expiry > top_date2),'policy_date_next_expiry']= np.nan\n",
    "df.loc[(df.policy_date_last_renewed > top_date2),'policy_date_last_renewed']= np.nan"
   ]
  },
  {
   "cell_type": "code",
   "execution_count": 54,
   "id": "83c8f662",
   "metadata": {},
   "outputs": [],
   "source": [
    "top_date1=20300101\n",
    "top_date2=203001\n",
    "dftest.loc[(dftest.claim_date_registered > top_date1),'claim_date_registered']= np.nan\n",
    "dftest.loc[(dftest.claim_date_occured > top_date1),'claim_date_occured']= np.nan\n",
    "dftest.loc[(dftest.claim_vehicle_date_inuse > top_date2),'claim_vehicle_date_inuse']= np.nan\n",
    "dftest.loc[(dftest.policy_date_start > top_date2),'policy_date_start']= np.nan\n",
    "dftest.loc[(dftest.policy_date_next_expiry > top_date2),'policy_date_next_expiry']= np.nan\n",
    "dftest.loc[(dftest.policy_date_last_renewed > top_date2),'policy_date_last_renewed']= np.nan"
   ]
  },
  {
   "cell_type": "markdown",
   "id": "0bfeabed",
   "metadata": {},
   "source": [
    "We change their type to date time"
   ]
  },
  {
   "cell_type": "code",
   "execution_count": 7,
   "id": "928ab11a",
   "metadata": {},
   "outputs": [],
   "source": [
    "df['claim_date_registered']=pd.to_datetime(df['claim_date_registered'].astype(str), format='%Y%m%d')\n",
    "df['claim_date_occured']=pd.to_datetime(df['claim_date_occured'].astype(str), format='%Y%m%d')\n",
    "df['claim_vehicle_date_inuse']=pd.to_datetime(df['claim_vehicle_date_inuse'].astype(str).str[:6], format='%Y%m')\n",
    "df['policy_date_start']=pd.to_datetime(df['policy_date_start'].astype(str).str[:6], format='%Y%m')\n",
    "df['policy_date_next_expiry']=pd.to_datetime(df['policy_date_next_expiry'].astype(str).str[:6], format='%Y%m')\n",
    "df['policy_date_last_renewed']=pd.to_datetime(df['policy_date_last_renewed'].astype(str).str[:6], format='%Y%m')\n"
   ]
  },
  {
   "cell_type": "code",
   "execution_count": 55,
   "id": "8588f24b",
   "metadata": {},
   "outputs": [],
   "source": [
    "dftest['claim_date_registered']=pd.to_datetime(dftest['claim_date_registered'].astype(str), format='%Y%m%d')\n",
    "dftest['claim_date_occured']=pd.to_datetime(dftest['claim_date_occured'].astype(str), format='%Y%m%d')\n",
    "dftest['claim_vehicle_date_inuse']=pd.to_datetime(dftest['claim_vehicle_date_inuse'].astype(str).str[:6], format='%Y%m')\n",
    "dftest['policy_date_start']=pd.to_datetime(dftest['policy_date_start'].astype(str).str[:6], format='%Y%m')\n",
    "dftest['policy_date_next_expiry']=pd.to_datetime(dftest['policy_date_next_expiry'].astype(str).str[:6], format='%Y%m')\n",
    "dftest['policy_date_last_renewed']=pd.to_datetime(dftest['policy_date_last_renewed'].astype(str).str[:6], format='%Y%m')\n"
   ]
  },
  {
   "cell_type": "markdown",
   "id": "84f53484",
   "metadata": {},
   "source": [
    "Now we create variables related to year, month, day and day of week"
   ]
  },
  {
   "cell_type": "code",
   "execution_count": null,
   "id": "79e89b88",
   "metadata": {},
   "outputs": [],
   "source": [
    "for col in date_cols[0:2]:\n",
    "    dftest[col+'_dayweek']= df[col].dt.dayofweek\n",
    "    df[col+'_year']= df[col].dt.year\n",
    "    df[col+'_month']= df[col].dt.month\n",
    "    df[col+'_day']= df[col].dt.day\n",
    "for col in date_cols[2:]:\n",
    "    df[col+'_year']= df[col].dt.year\n",
    "    df[col+'_month']= df[col].dt.month"
   ]
  },
  {
   "cell_type": "code",
   "execution_count": 56,
   "id": "8e07361c",
   "metadata": {},
   "outputs": [],
   "source": [
    "for col in date_cols_dftest[0:2]:\n",
    "    dftest[col+'_dayweek']= dftest[col].dt.dayofweek\n",
    "    dftest[col+'_year']= dftest[col].dt.year\n",
    "    dftest[col+'_month']= dftest[col].dt.month\n",
    "    dftest[col+'_day']= dftest[col].dt.day\n",
    "for col in date_cols_dftest[2:]:\n",
    "    dftest[col+'_year']= dftest[col].dt.year\n",
    "    dftest[col+'_month']= dftest[col].dt.month"
   ]
  },
  {
   "cell_type": "markdown",
   "id": "c8532254",
   "metadata": {},
   "source": [
    "It is also important to have duration between claim_date_registered and claim_date_occured, also between claim_date_registered and policy_date_start"
   ]
  },
  {
   "cell_type": "code",
   "execution_count": 9,
   "id": "de1a3b44",
   "metadata": {},
   "outputs": [],
   "source": [
    "df['duration_claim_reg_occured']=(df['claim_date_registered']-df['claim_date_occured']).dt.total_seconds() / (24 * 60 * 60)\n",
    "df['duration_claim_reg_policy_start']=(df['claim_date_registered']-df['policy_date_start']).dt.total_seconds() / (24 * 60 * 60)"
   ]
  },
  {
   "cell_type": "code",
   "execution_count": 57,
   "id": "e06cde19",
   "metadata": {},
   "outputs": [],
   "source": [
    "dftest['duration_claim_reg_occured']=(dftest['claim_date_registered']-dftest['claim_date_occured']).dt.total_seconds() / (24 * 60 * 60)\n",
    "dftest['duration_claim_reg_policy_start']=(dftest['claim_date_registered']-dftest['policy_date_start']).dt.total_seconds() / (24 * 60 * 60)"
   ]
  },
  {
   "cell_type": "markdown",
   "id": "5de6ae65",
   "metadata": {},
   "source": [
    "We drop the date variables so we can run the model"
   ]
  },
  {
   "cell_type": "code",
   "execution_count": 10,
   "id": "b69ffca0",
   "metadata": {},
   "outputs": [],
   "source": [
    "df.drop(date_cols, axis = 1, inplace = True)"
   ]
  },
  {
   "cell_type": "code",
   "execution_count": null,
   "id": "90183c26",
   "metadata": {},
   "outputs": [],
   "source": [
    "dftest.drop(date_cols, axis = 1, inplace = True)"
   ]
  },
  {
   "cell_type": "markdown",
   "id": "6303c6c6",
   "metadata": {},
   "source": [
    "**Adding columns to pinpoint missing values**\n",
    "\n",
    "Later on the missing values will be imputed, but it is important to keep a record of the imputed values. Therefore we add a column for each feature."
   ]
  },
  {
   "cell_type": "code",
   "execution_count": 11,
   "id": "f7d80814",
   "metadata": {},
   "outputs": [],
   "source": [
    "for col in df.columns:\n",
    "    df[col+'_miss'] = pd.isnull(df[col])*1\n",
    "#list of added columns\n",
    "miss_col = [col for col in df.columns if 'miss' in col]\n",
    "miss_col.remove('fraud_miss') #don't keep the target\n",
    "miss_col.remove('claim_amount_miss') #don't keep information you don't have at the start"
   ]
  },
  {
   "cell_type": "code",
   "execution_count": 60,
   "id": "dcf54540",
   "metadata": {},
   "outputs": [
    {
     "ename": "ValueError",
     "evalue": "list.remove(x): x not in list",
     "output_type": "error",
     "traceback": [
      "\u001b[1;31m---------------------------------------------------------------------------\u001b[0m",
      "\u001b[1;31mValueError\u001b[0m                                Traceback (most recent call last)",
      "\u001b[1;32m<ipython-input-60-a7775cfc43cd>\u001b[0m in \u001b[0;36m<module>\u001b[1;34m\u001b[0m\n\u001b[0;32m      3\u001b[0m \u001b[1;31m#list of added columns\u001b[0m\u001b[1;33m\u001b[0m\u001b[1;33m\u001b[0m\u001b[1;33m\u001b[0m\u001b[0m\n\u001b[0;32m      4\u001b[0m \u001b[0mmiss_col_dftest\u001b[0m \u001b[1;33m=\u001b[0m \u001b[1;33m[\u001b[0m\u001b[0mcol\u001b[0m \u001b[1;32mfor\u001b[0m \u001b[0mcol\u001b[0m \u001b[1;32min\u001b[0m \u001b[0mdftest\u001b[0m\u001b[1;33m.\u001b[0m\u001b[0mcolumns\u001b[0m \u001b[1;32mif\u001b[0m \u001b[1;34m'miss'\u001b[0m \u001b[1;32min\u001b[0m \u001b[0mcol\u001b[0m\u001b[1;33m]\u001b[0m\u001b[1;33m\u001b[0m\u001b[1;33m\u001b[0m\u001b[0m\n\u001b[1;32m----> 5\u001b[1;33m \u001b[0mmiss_col_dftest\u001b[0m\u001b[1;33m.\u001b[0m\u001b[0mremove\u001b[0m\u001b[1;33m(\u001b[0m\u001b[1;34m'fraud_miss'\u001b[0m\u001b[1;33m)\u001b[0m \u001b[1;31m#don't keep the target\u001b[0m\u001b[1;33m\u001b[0m\u001b[1;33m\u001b[0m\u001b[0m\n\u001b[0m\u001b[0;32m      6\u001b[0m \u001b[0mmiss_col_dftest\u001b[0m\u001b[1;33m.\u001b[0m\u001b[0mremove\u001b[0m\u001b[1;33m(\u001b[0m\u001b[1;34m'claim_amount_miss'\u001b[0m\u001b[1;33m)\u001b[0m \u001b[1;31m#don't keep information you don't have at the start\u001b[0m\u001b[1;33m\u001b[0m\u001b[1;33m\u001b[0m\u001b[0m\n",
      "\u001b[1;31mValueError\u001b[0m: list.remove(x): x not in list"
     ]
    }
   ],
   "source": [
    "for col in dftest.columns:\n",
    "    dftest[col+'_miss'] = pd.isnull(dftest[col])*1\n",
    "#list of added columns\n",
    "miss_col_dftest = [col for col in dftest.columns if 'miss' in col]\n",
    "miss_col_dftest.remove('fraud_miss') #don't keep the target\n",
    "miss_col_dftest.remove('claim_amount_miss') #don't keep information you don't have at the start"
   ]
  },
  {
   "cell_type": "markdown",
   "id": "8151d21a",
   "metadata": {},
   "source": [
    "#### Label and categorize\n",
    "We label the object type variables or categorize them to later on impute them\n"
   ]
  },
  {
   "cell_type": "code",
   "execution_count": 62,
   "id": "ce860a53",
   "metadata": {},
   "outputs": [],
   "source": [
    "labelencoder = LabelEncoder()\n",
    "df['fraud'] = labelencoder.fit_transform(df['fraud'])\n",
    "df['claim_cause'] = labelencoder.fit_transform(df['claim_cause'])\n",
    "df['claim_liable'] = labelencoder.fit_transform(df['claim_liable'])\n",
    "df['claim_police'] = labelencoder.fit_transform(df['claim_police'])\n",
    "df['claim_alcohol'] = labelencoder.fit_transform(df['claim_alcohol'])\n",
    "df['claim_vehicle_id'] = labelencoder.fit_transform(df['claim_vehicle_id'])\n",
    "df['claim_vehicle_brand'] = labelencoder.fit_transform(df['claim_vehicle_brand'])\n",
    "#df['claim_vehicle_brand'] =df['claim_vehicle_brand'].astype(float)\n",
    "#df['claim_vehicle_brand'] = df.claim_vehicle_brand.astype('category')\n",
    "df[\"claim_vehicle_brand\"] = df[\"claim_vehicle_brand\"].astype('category')\n",
    "df[\"claim_vehicle_brand\"] = df[\"claim_vehicle_brand\"].cat.codes.astype(float)\n",
    "df['claim_vehicle_type'] = labelencoder.fit_transform(df['claim_vehicle_type'])\n",
    "df['policy_holder_form'] = labelencoder.fit_transform(df['policy_holder_form'])\n",
    "df[\"policy_holder_form\"] = df[\"policy_holder_form\"].astype('category')\n",
    "df[\"policy_holder_form\"] = df[\"policy_holder_form\"].cat.codes.astype(float)\n",
    "df['policy_holder_country'] = labelencoder.fit_transform(df['policy_holder_country'])\n",
    "df[\"policy_holder_country\"] = df[\"policy_holder_country\"].astype('category')\n",
    "df[\"policy_holder_country\"] = df[\"policy_holder_country\"].cat.codes.astype(float)\n",
    "#df['driver_country'] = labelencoder.fit_transform(df['driver_country'])\n",
    "df[\"driver_country\"] = df[\"driver_country\"].astype('category')\n",
    "df[\"driver_country\"] = df[\"driver_country\"].cat.codes.astype(float)\n",
    "df['driver_injured'] = labelencoder.fit_transform(df['driver_injured'])\n",
    "\n",
    "#df['repair_form'] = labelencoder.fit_transform(df['repair_form'])\n",
    "df[\"repair_form\"] = df[\"repair_form\"].astype('category')\n",
    "df[\"repair_form\"] = df[\"repair_form\"].cat.codes.astype(float)\n",
    "\n",
    "df['repair_country'] = labelencoder.fit_transform(df['repair_country'])\n",
    "# df[\"repair_country\"] = df[\"repair_country\"].astype('category')\n",
    "# df[\"repair_country\"] = df[\"repair_country\"].cat.codes.astype(float)\n",
    "#df['repair_sla'] = labelencoder.fit_transform(df['repair_sla'])\n",
    "df[\"repair_sla\"] = df[\"repair_sla\"].astype('category')\n",
    "df[\"repair_sla\"] = df[\"repair_sla\"].cat.codes.astype(float)\n",
    "\n"
   ]
  },
  {
   "cell_type": "code",
   "execution_count": 64,
   "id": "265a835d",
   "metadata": {},
   "outputs": [],
   "source": [
    "labelencoder = LabelEncoder()\n",
    "#dftest['fraud'] = labelencoder.fit_transform(dftest['fraud'])\n",
    "dftest['claim_cause'] = labelencoder.fit_transform(dftest['claim_cause'])\n",
    "dftest['claim_liable'] = labelencoder.fit_transform(dftest['claim_liable'])\n",
    "dftest['claim_police'] = labelencoder.fit_transform(dftest['claim_police'])\n",
    "dftest['claim_alcohol'] = labelencoder.fit_transform(dftest['claim_alcohol'])\n",
    "dftest['claim_vehicle_id'] = labelencoder.fit_transform(dftest['claim_vehicle_id'])\n",
    "dftest['claim_vehicle_brand'] = labelencoder.fit_transform(dftest['claim_vehicle_brand'])\n",
    "#dftest['claim_vehicle_brand'] =dftest['claim_vehicle_brand'].astype(float)\n",
    "#dftest['claim_vehicle_brand'] = df.claim_vehicle_brand.astype('category')\n",
    "dftest[\"claim_vehicle_brand\"] = dftest[\"claim_vehicle_brand\"].astype('category')\n",
    "dftest[\"claim_vehicle_brand\"] = dftest[\"claim_vehicle_brand\"].cat.codes.astype(float)\n",
    "dftest['claim_vehicle_type'] = labelencoder.fit_transform(dftest['claim_vehicle_type'])\n",
    "dftest['policy_holder_form'] = labelencoder.fit_transform(dftest['policy_holder_form'])\n",
    "dftest[\"policy_holder_form\"] = dftest[\"policy_holder_form\"].astype('category')\n",
    "dftest[\"policy_holder_form\"] = dftest[\"policy_holder_form\"].cat.codes.astype(float)\n",
    "dftest['policy_holder_country'] = labelencoder.fit_transform(dftest['policy_holder_country'])\n",
    "dftest[\"policy_holder_country\"] = dftest[\"policy_holder_country\"].astype('category')\n",
    "dftest[\"policy_holder_country\"] = dftest[\"policy_holder_country\"].cat.codes.astype(float)\n",
    "#dftest['driver_country'] = labelencoder.fit_transform(dftest['driver_country'])\n",
    "dftest[\"driver_country\"] = dftest[\"driver_country\"].astype('category')\n",
    "dftest[\"driver_country\"] = dftest[\"driver_country\"].cat.codes.astype(float)\n",
    "dftest['driver_injured'] = labelencoder.fit_transform(dftest['driver_injured'])\n",
    "\n",
    "#dftest['repair_form'] = labelencoder.fit_transform(dftest['repair_form'])\n",
    "dftest[\"repair_form\"] = dftest[\"repair_form\"].astype('category')\n",
    "dftest[\"repair_form\"] = dftest[\"repair_form\"].cat.codes.astype(float)\n",
    "\n",
    "dftest['repair_country'] = labelencoder.fit_transform(dftest['repair_country'])\n"
   ]
  },
  {
   "cell_type": "markdown",
   "id": "4f679292",
   "metadata": {},
   "source": [
    "#### Separate target and source variables\n",
    "We drop the the claim_amount from the source variables because it is not information assumed to be available at the start of the claim procedure. Also, the year of the claim must be dropped becasue it is a constant.The separation between train and validation data is a 80/20 percent split."
   ]
  },
  {
   "cell_type": "code",
   "execution_count": 13,
   "id": "cc28aa17",
   "metadata": {},
   "outputs": [],
   "source": [
    "# Separate target and source variables\n",
    "\n",
    "y = df.fraud\n",
    "X = df.drop(['fraud','claim_amount','fraud_miss','claim_amount_miss', 'claim_date_registered_year', ], axis=1)\n",
    "# The 20 % of data is test size of the data \n",
    "X_train, X_test, y_train, y_test = train_test_split(X, y, test_size = 0.20, stratify=y)"
   ]
  },
  {
   "cell_type": "markdown",
   "id": "d307509c",
   "metadata": {},
   "source": [
    "## Sklearn pipeline\n",
    "We first list the variables according to the strategy for imputation and creation of dummies"
   ]
  },
  {
   "cell_type": "code",
   "execution_count": 14,
   "id": "20765dac",
   "metadata": {},
   "outputs": [],
   "source": [
    "median_feats = ['policy_coverage_1000','policy_premium_100','claim_vehicle_load','claim_vehicle_cyl','claim_time_occured','claim_num_injured','claim_num_third_parties','claim_num_vehicles']\n",
    "most_freq_feats = ['claim_date_registered_month',\n",
    "                     'claim_date_registered_day',\n",
    "                     'claim_date_occured_dayweek',\n",
    "                     'claim_date_occured_year',\n",
    "                     'claim_date_occured_month',\n",
    "                     'claim_date_occured_day',\n",
    "                     'claim_vehicle_date_inuse_year',\n",
    "                     'claim_vehicle_date_inuse_month',\n",
    "                     'policy_date_start_year',\n",
    "                     'policy_date_start_month',\n",
    "                     'policy_date_next_expiry_year',\n",
    "                     'policy_date_next_expiry_month',\n",
    "                     'policy_date_last_renewed_year',\n",
    "                     'policy_date_last_renewed_month',\n",
    "                     'duration_claim_reg_occured',\n",
    "                     'duration_claim_reg_policy_start',\n",
    "                   'claim_date_registered_dayweek','policy_num_changes','policy_num_changes','repair_sla','repair_country','repair_year_birth','repair_form','repair_postal_code','driver_injured','driver_country','driver_year_birth','policy_holder_country','policy_holder_year_birth','policy_holder_form','policy_holder_postal_code','claim_vehicle_power','claim_vehicle_fuel_type','claim_vehicle_type','claim_vehicle_brand','claim_vehicle_id','claim_language','claim_alcohol','claim_police','claim_liable','claim_postal_code','claim_cause','claim_postal_code']\n",
    "most_freq_feats = most_freq_feats+miss_col\n",
    "hot_feats = ['claim_vehicle_brand','repair_form']\n"
   ]
  },
  {
   "cell_type": "markdown",
   "id": "3ddb144c",
   "metadata": {},
   "source": [
    "We create the pre_process step"
   ]
  },
  {
   "cell_type": "code",
   "execution_count": 15,
   "id": "05c5839d",
   "metadata": {},
   "outputs": [],
   "source": [
    "pre_process = ColumnTransformer(remainder='drop', transformers=[\n",
    "                                ('impute_median', SimpleImputer(strategy='median'), median_feats),\n",
    "                                ('impute_most_freq', SimpleImputer(strategy='most_frequent'), most_freq_feats),\n",
    "                                ('one_hot',OneHotEncoder(),hot_feats)])\n",
    "#('one_hot',OneHotEncoder(),hot_feats)"
   ]
  },
  {
   "cell_type": "markdown",
   "id": "138f4356",
   "metadata": {},
   "source": [
    "The object model_pipeline has two steps: pre_processing and the model"
   ]
  },
  {
   "cell_type": "code",
   "execution_count": 16,
   "id": "40654d35",
   "metadata": {},
   "outputs": [],
   "source": [
    "model_pipeline = Pipeline(steps=[('pre_processing',pre_process),\n",
    "                                 ('random_forest', RandomForestClassifier(random_state=0))\n",
    "                                 ])"
   ]
  },
  {
   "cell_type": "markdown",
   "id": "5462021e",
   "metadata": {},
   "source": [
    "We train the model and, as expected, a Random Forest cannot deal with severily imbalanced data. The model overfits."
   ]
  },
  {
   "cell_type": "code",
   "execution_count": 17,
   "id": "b76e18bd",
   "metadata": {},
   "outputs": [],
   "source": [
    "#y_train=y_train.astype(float)\n",
    "m1 = model_pipeline.fit(X_train,y_train)"
   ]
  },
  {
   "cell_type": "code",
   "execution_count": 18,
   "id": "0a843226",
   "metadata": {},
   "outputs": [
    {
     "name": "stdout",
     "output_type": "stream",
     "text": [
      "0.9999549244985351\n"
     ]
    },
    {
     "data": {
      "text/plain": [
       "array([[44124,     0],\n",
       "       [    2,   244]], dtype=int64)"
      ]
     },
     "execution_count": 18,
     "metadata": {},
     "output_type": "execute_result"
    }
   ],
   "source": [
    "# MSE = []\n",
    "# MSE.append(mean_squared_error(y_train,model_pipeline.predict(X_train))**0.5)\n",
    "# MSE\n",
    "\n",
    "# y_prediction =model_pipeline.predict(X_train)\n",
    "# accuracy_score(y_train, y_prediction)\n",
    "y_prediction =model_pipeline.predict(X_train)\n",
    "print(accuracy_score(y_train, y_prediction))\n",
    "confusion_matrix(y_train, y_prediction)"
   ]
  },
  {
   "cell_type": "code",
   "execution_count": 19,
   "id": "0d61514f",
   "metadata": {},
   "outputs": [
    {
     "name": "stdout",
     "output_type": "stream",
     "text": [
      "0.9943207428107815\n"
     ]
    },
    {
     "data": {
      "text/plain": [
       "array([[11030,     1],\n",
       "       [   62,     0]], dtype=int64)"
      ]
     },
     "execution_count": 19,
     "metadata": {},
     "output_type": "execute_result"
    }
   ],
   "source": [
    "y_prediction_test =model_pipeline.predict(X_test)\n",
    "print(accuracy_score(y_test, y_prediction_test))\n",
    "confusion_matrix(y_test, y_prediction_test)"
   ]
  },
  {
   "cell_type": "markdown",
   "id": "04958792",
   "metadata": {},
   "source": [
    "We create another pipeline to transform the data and later use it in different models."
   ]
  },
  {
   "cell_type": "code",
   "execution_count": 20,
   "id": "4350b1ba",
   "metadata": {},
   "outputs": [],
   "source": [
    "pre1_process = ColumnTransformer(remainder='drop', transformers=[\n",
    "                                ('impute_median', SimpleImputer(strategy='median'), median_feats),\n",
    "                                ('impute_most_freq', SimpleImputer(strategy='most_frequent'), most_freq_feats),\n",
    "                                ('one_hot',OneHotEncoder(),hot_feats)])\n",
    "#('one_hot',OneHotEncoder(),hot_feats)\n",
    "prepro_pipeline = Pipeline(steps=[('pre_processing',pre1_process)])"
   ]
  },
  {
   "cell_type": "markdown",
   "id": "2a66a4c0",
   "metadata": {},
   "source": [
    "We transform the features."
   ]
  },
  {
   "cell_type": "code",
   "execution_count": 66,
   "id": "6171ffb2",
   "metadata": {},
   "outputs": [],
   "source": [
    "train_prepared = prepro_pipeline.fit_transform(X_train)\n",
    "test_prepared = prepro_pipeline.fit_transform(X_test)\n",
    "dftest_prepared = prepro_pipeline.fit_transform(dftest)"
   ]
  },
  {
   "cell_type": "markdown",
   "id": "272716e1",
   "metadata": {},
   "source": [
    "### Grid search for Random Forest"
   ]
  },
  {
   "cell_type": "code",
   "execution_count": 22,
   "id": "c3b604d0",
   "metadata": {},
   "outputs": [],
   "source": [
    "rfc=RandomForestClassifier(random_state=0)"
   ]
  },
  {
   "cell_type": "code",
   "execution_count": 23,
   "id": "3b057cbf",
   "metadata": {},
   "outputs": [],
   "source": [
    " param_grid = [\n",
    "        {'max_depth': [10, 20, 30,50,70,80],\n",
    "         'min_samples_leaf': [1, 2, 4]\n",
    "        },\n",
    "    ]"
   ]
  },
  {
   "cell_type": "code",
   "execution_count": 24,
   "id": "e352c035",
   "metadata": {},
   "outputs": [],
   "source": [
    "grid_search = GridSearchCV(rfc, param_grid, cv=5,scoring='accuracy', refit=True)\n"
   ]
  },
  {
   "cell_type": "code",
   "execution_count": 25,
   "id": "9d45655d",
   "metadata": {},
   "outputs": [
    {
     "data": {
      "text/plain": [
       "GridSearchCV(cv=5, estimator=RandomForestClassifier(random_state=0),\n",
       "             param_grid=[{'max_depth': [10, 20, 30, 50, 70, 80],\n",
       "                          'min_samples_leaf': [1, 2, 4]}],\n",
       "             scoring='accuracy')"
      ]
     },
     "execution_count": 25,
     "metadata": {},
     "output_type": "execute_result"
    }
   ],
   "source": [
    "grid_search.fit(train_prepared, y_train)\n"
   ]
  },
  {
   "cell_type": "code",
   "execution_count": 26,
   "id": "de96c65d",
   "metadata": {},
   "outputs": [
    {
     "name": "stdout",
     "output_type": "stream",
     "text": [
      "Final score is:  0.994410889750293\n"
     ]
    }
   ],
   "source": [
    "print('Final score is: ', grid_search.score(test_prepared, y_test))"
   ]
  },
  {
   "cell_type": "code",
   "execution_count": 27,
   "id": "5f787187",
   "metadata": {},
   "outputs": [],
   "source": [
    "final_model = grid_search.best_estimator_"
   ]
  },
  {
   "cell_type": "code",
   "execution_count": 28,
   "id": "49ef910f",
   "metadata": {},
   "outputs": [],
   "source": [
    "final_predictions = final_model.predict(test_prepared)"
   ]
  },
  {
   "cell_type": "markdown",
   "id": "7da426e1",
   "metadata": {},
   "source": [
    "Even after grid search the model still overfits"
   ]
  },
  {
   "cell_type": "code",
   "execution_count": 29,
   "id": "055eb09f",
   "metadata": {},
   "outputs": [
    {
     "data": {
      "text/plain": [
       "array([[11031,     0],\n",
       "       [   62,     0]], dtype=int64)"
      ]
     },
     "execution_count": 29,
     "metadata": {},
     "output_type": "execute_result"
    }
   ],
   "source": [
    "confusion_matrix(y_test, final_predictions)"
   ]
  },
  {
   "cell_type": "markdown",
   "id": "242110a8",
   "metadata": {},
   "source": [
    "### Easy ensemble"
   ]
  },
  {
   "cell_type": "code",
   "execution_count": 34,
   "id": "88768cd8",
   "metadata": {},
   "outputs": [
    {
     "name": "stdout",
     "output_type": "stream",
     "text": [
      "Mean ROC AUC: 0.851\n"
     ]
    }
   ],
   "source": [
    "# define model\n",
    "easy_model = EasyEnsembleClassifier(n_estimators=10)\n",
    "# define evaluation procedure\n",
    "cv = RepeatedStratifiedKFold(n_splits=10, n_repeats=3, random_state=0)\n",
    "# evaluate model\n",
    "scores = cross_val_score(easy_model, train_prepared, y_train, scoring='roc_auc', cv=cv, n_jobs=-1)\n",
    "# summarize performance\n",
    "print('Mean ROC AUC: %.3f' % mean(scores))"
   ]
  },
  {
   "cell_type": "code",
   "execution_count": 38,
   "id": "5af211fb",
   "metadata": {},
   "outputs": [
    {
     "data": {
      "text/plain": [
       "0.7940788569456751"
      ]
     },
     "execution_count": 38,
     "metadata": {},
     "output_type": "execute_result"
    }
   ],
   "source": [
    "eec = EasyEnsembleClassifier(random_state=0)\n",
    "eec.fit(train_prepared, y_train) \n",
    "y_pred_eec = eec.predict(test_prepared)\n",
    "balanced_accuracy_score(y_test, y_pred_eec)  "
   ]
  },
  {
   "cell_type": "code",
   "execution_count": 39,
   "id": "941bcf7a",
   "metadata": {},
   "outputs": [
    {
     "data": {
      "text/plain": [
       "array([[8623, 2408],\n",
       "       [  12,   50]], dtype=int64)"
      ]
     },
     "execution_count": 39,
     "metadata": {},
     "output_type": "execute_result"
    }
   ],
   "source": [
    "confusion_matrix(y_test, y_pred_eec)"
   ]
  },
  {
   "cell_type": "markdown",
   "id": "742e8ad6",
   "metadata": {},
   "source": [
    "### Make predictions\n",
    "Using the ensemble model and then create a csv file to upload to the board"
   ]
  },
  {
   "cell_type": "code",
   "execution_count": 100,
   "id": "67d6fb59",
   "metadata": {},
   "outputs": [],
   "source": [
    "# Strangely one column is not int\n",
    "dftest_prepared[:,27] = (np.where(dftest_prepared[:,27]=='Y', 1, dftest_prepared[:,27]))\n",
    "dftest_prepared[:,27] = (np.where(dftest_prepared[:,27]=='N', 0, dftest_prepared[:,27]))\n",
    "print(dftest_prepared[:,27])"
   ]
  },
  {
   "cell_type": "code",
   "execution_count": null,
   "id": "96422a16",
   "metadata": {},
   "outputs": [],
   "source": [
    "y_pred_eec_upload = eec.predict_proba(dftest_prepared)"
   ]
  },
  {
   "cell_type": "code",
   "execution_count": 121,
   "id": "cb88e5cd",
   "metadata": {},
   "outputs": [],
   "source": [
    "y_pred_eec_0_1 = eec.predict(dftest_prepared)"
   ]
  },
  {
   "cell_type": "code",
   "execution_count": 128,
   "id": "d571cc02",
   "metadata": {},
   "outputs": [],
   "source": [
    "dfleader = pd.DataFrame({'ID':test_claim_id, 'PROB':y_pred_eec_upload[:,1]})\n",
    "dfleader.to_csv('dfleader.csv',index=False)"
   ]
  },
  {
   "cell_type": "markdown",
   "id": "7b144cf9",
   "metadata": {},
   "source": [
    "We recoverd 67431.33 and have AUC equal to 0.81026228, position 33"
   ]
  }
 ],
 "metadata": {
  "kernelspec": {
   "display_name": "Python 3",
   "language": "python",
   "name": "python3"
  },
  "language_info": {
   "codemirror_mode": {
    "name": "ipython",
    "version": 3
   },
   "file_extension": ".py",
   "mimetype": "text/x-python",
   "name": "python",
   "nbconvert_exporter": "python",
   "pygments_lexer": "ipython3",
   "version": "3.8.5"
  }
 },
 "nbformat": 4,
 "nbformat_minor": 5
}
