{
 "cells": [
  {
   "cell_type": "code",
   "execution_count": 1,
   "id": "496af83a",
   "metadata": {},
   "outputs": [],
   "source": [
    "from sklearn.model_selection import train_test_split\n",
    "from sklearn.preprocessing import StandardScaler\n",
    "from sklearn.decomposition import PCA\n",
    "from sklearn.tree import DecisionTreeClassifier\n",
    "import numpy as np # linear algebra\n",
    "import pandas as pd # data processing, CSV file I/O (e.g. pd.read_csv)\n",
    "from sklearn.pipeline import Pipeline\n",
    "import seaborn as sns\n",
    "from sklearn.base import BaseEstimator\n",
    "from sklearn.compose import ColumnTransformer \n",
    "from sklearn.impute import SimpleImputer\n",
    "from sklearn.preprocessing import StandardScaler\n",
    "from sklearn.ensemble import RandomForestRegressor\n",
    "from sklearn.metrics import mean_squared_error\n",
    "import matplotlib.pyplot as plt\n",
    "%matplotlib inline\n",
    "import pandas as pd\n",
    "import numpy as np\n",
    "from sklearn.base import BaseEstimator, TransformerMixin\n",
    "from sklearn.pipeline import Pipeline\n",
    "from sklearn.linear_model import LinearRegression\n",
    "from sklearn.metrics import mean_squared_error\n",
    "from sklearn.compose import ColumnTransformer\n",
    "from sklearn.impute import SimpleImputer\n",
    "import featuretools.variable_types as vtypes\n",
    "import seaborn as sns\n",
    "from decimal import Decimal\n",
    "from math import  modf\n",
    "from sklearn.preprocessing import LabelEncoder, OneHotEncoder\n",
    "from sklearn.metrics import accuracy_score, confusion_matrix, classification_report\n",
    "from sklearn.ensemble import RandomForestClassifier"
   ]
  },
  {
   "cell_type": "code",
   "execution_count": 2,
   "id": "a5d982ed",
   "metadata": {},
   "outputs": [],
   "source": [
    "#read csv file\n",
    "df=pd.read_csv('train.csv', sep=';') "
   ]
  },
  {
   "cell_type": "markdown",
   "id": "66624a2b",
   "metadata": {},
   "source": [
    "#### Anomoulous values in claim_vehicle_load\n",
    "The vehicule load is unlikely to be a number above 100. Only one observation had a value of 500. Therefore we replace all the values above 20 with missing."
   ]
  },
  {
   "cell_type": "code",
   "execution_count": 3,
   "id": "8b583c64",
   "metadata": {},
   "outputs": [
    {
     "data": {
      "text/plain": [
       "35617    500.00\n",
       "20096      5.50\n",
       "8673       5.49\n",
       "13984      4.60\n",
       "40231      4.60\n",
       "Name: claim_vehicle_load, dtype: float64"
      ]
     },
     "execution_count": 3,
     "metadata": {},
     "output_type": "execute_result"
    }
   ],
   "source": [
    "df[\"claim_vehicle_load\"].nlargest(5)"
   ]
  },
  {
   "cell_type": "code",
   "execution_count": 4,
   "id": "98321f43",
   "metadata": {},
   "outputs": [
    {
     "data": {
      "image/png": "[encoded data removed]",
      "text/plain": [
       "<Figure size 432x288 with 1 Axes>"
      ]
     },
     "metadata": {},
     "output_type": "display_data"
    }
   ],
   "source": [
    "df.loc[(df.claim_vehicle_load > 20),'claim_vehicle_load']= np.nan\n",
    "sns.set_theme(style=\"whitegrid\")\n",
    "ax = sns.violinplot(x=df[\"claim_vehicle_load\"])"
   ]
  },
  {
   "cell_type": "markdown",
   "id": "6509018d",
   "metadata": {},
   "source": [
    "**Create features about time (year, month, day, dayoftheweek)**\n",
    "\n",
    "The following features contain a date and they should create additional features accordingly."
   ]
  },
  {
   "cell_type": "code",
   "execution_count": 5,
   "id": "66ada8bf",
   "metadata": {},
   "outputs": [
    {
     "name": "stdout",
     "output_type": "stream",
     "text": [
      "['claim_date_registered', 'claim_date_occured', 'claim_vehicle_date_inuse', 'policy_date_start', 'policy_date_next_expiry', 'policy_date_last_renewed']\n"
     ]
    }
   ],
   "source": [
    "date_cols = [col for col in df.columns if 'date' in col]\n",
    "print(date_cols)"
   ]
  },
  {
   "cell_type": "markdown",
   "id": "ccc99bec",
   "metadata": {},
   "source": [
    "These features might contain date values out of bounds, so we replace those for missing and later change to date format."
   ]
  },
  {
   "cell_type": "code",
   "execution_count": 6,
   "id": "039390ff",
   "metadata": {},
   "outputs": [],
   "source": [
    "top_date1=20300101\n",
    "top_date2=203001\n",
    "df.loc[(df.claim_date_registered > top_date1),'claim_date_registered']= np.nan\n",
    "df.loc[(df.claim_date_occured > top_date1),'claim_date_occured']= np.nan\n",
    "df.loc[(df.claim_vehicle_date_inuse > top_date2),'claim_vehicle_date_inuse']= np.nan\n",
    "df.loc[(df.policy_date_start > top_date2),'policy_date_start']= np.nan\n",
    "df.loc[(df.policy_date_next_expiry > top_date2),'policy_date_next_expiry']= np.nan\n",
    "df.loc[(df.policy_date_last_renewed > top_date2),'policy_date_last_renewed']= np.nan"
   ]
  },
  {
   "cell_type": "code",
   "execution_count": 7,
   "id": "7cf4aff7",
   "metadata": {},
   "outputs": [],
   "source": [
    "df['claim_date_registered']=pd.to_datetime(df['claim_date_registered'].astype(str), format='%Y%m%d')\n",
    "df['claim_date_occured']=pd.to_datetime(df['claim_date_occured'].astype(str), format='%Y%m%d')\n",
    "df['claim_vehicle_date_inuse']=pd.to_datetime(df['claim_vehicle_date_inuse'].astype(str).str[:6], format='%Y%m')\n",
    "df['policy_date_start']=pd.to_datetime(df['policy_date_start'].astype(str).str[:6], format='%Y%m')\n",
    "df['policy_date_next_expiry']=pd.to_datetime(df['policy_date_next_expiry'].astype(str).str[:6], format='%Y%m')\n",
    "df['policy_date_last_renewed']=pd.to_datetime(df['policy_date_last_renewed'].astype(str).str[:6], format='%Y%m')\n"
   ]
  },
  {
   "cell_type": "markdown",
   "id": "9280932b",
   "metadata": {},
   "source": [
    "Now we create variables related to year, month, day and day of week"
   ]
  },
  {
   "cell_type": "code",
   "execution_count": 8,
   "id": "66e48007",
   "metadata": {},
   "outputs": [],
   "source": [
    "for col in date_cols[0:2]:\n",
    "    df[col+'_dayweek']= df[col].dt.dayofweek\n",
    "    df[col+'_year']= df[col].dt.year\n",
    "    df[col+'_month']= df[col].dt.month\n",
    "    df[col+'_day']= df[col].dt.day\n",
    "for col in date_cols[2:]:\n",
    "    df[col+'_year']= df[col].dt.year\n",
    "    df[col+'_month']= df[col].dt.month"
   ]
  },
  {
   "cell_type": "markdown",
   "id": "48a3abf5",
   "metadata": {},
   "source": [
    "It is also important to have duration between claim_date_registered and claim_date_occured, also between claim_date_registered and policy_date_start"
   ]
  },
  {
   "cell_type": "code",
   "execution_count": 9,
   "id": "5ba5927a",
   "metadata": {},
   "outputs": [],
   "source": [
    "df['duration_claim_reg_occured']=(df['claim_date_registered']-df['claim_date_occured']).dt.total_seconds() / (24 * 60 * 60)\n",
    "df['duration_claim_reg_policy_start']=(df['claim_date_registered']-df['policy_date_start']).dt.total_seconds() / (24 * 60 * 60)"
   ]
  },
  {
   "cell_type": "markdown",
   "id": "632c78fd",
   "metadata": {},
   "source": [
    "We drop the date variables so we can run the model"
   ]
  },
  {
   "cell_type": "code",
   "execution_count": 10,
   "id": "55f52f33",
   "metadata": {},
   "outputs": [],
   "source": [
    "df.drop(date_cols, axis = 1, inplace = True)"
   ]
  },
  {
   "cell_type": "markdown",
   "id": "ff4297b6",
   "metadata": {},
   "source": [
    "**Adding columns to pinpoint missing values**\n",
    "\n",
    "Later on the missing values will be imputed, but it is important to keep a record of the imputed values. Therefore we add a column for each feature."
   ]
  },
  {
   "cell_type": "code",
   "execution_count": 11,
   "id": "2774c6fb",
   "metadata": {},
   "outputs": [],
   "source": [
    "for col in df.columns:\n",
    "    df[col+'_miss'] = pd.isnull(df[col])*1\n",
    "#list of added columns\n",
    "miss_col = [col for col in df.columns if 'miss' in col]\n",
    "miss_col.remove('fraud_miss')\n",
    "miss_col.remove('claim_amount_miss')"
   ]
  },
  {
   "cell_type": "markdown",
   "id": "d58b0120",
   "metadata": {},
   "source": [
    "### Separate the target and source variables and split in train and valuation set\n",
    "We drop the the claim_amount from the source variables because it is not information assumed to be available at the start of the claim procedure. Also, the year of the claim must be dropped becasue it is a constant.The separation between train and validation data is a 80/20 percent split."
   ]
  },
  {
   "cell_type": "code",
   "execution_count": 12,
   "id": "bcdc1bf1",
   "metadata": {},
   "outputs": [],
   "source": [
    "labelencoder = LabelEncoder()\n",
    "df['fraud'] = labelencoder.fit_transform(df['fraud'])\n",
    "df['claim_cause'] = labelencoder.fit_transform(df['claim_cause'])\n",
    "df['claim_liable'] = labelencoder.fit_transform(df['claim_liable'])\n",
    "df['claim_police'] = labelencoder.fit_transform(df['claim_police'])\n",
    "df['claim_alcohol'] = labelencoder.fit_transform(df['claim_alcohol'])\n",
    "df['claim_vehicle_id'] = labelencoder.fit_transform(df['claim_vehicle_id'])\n",
    "df['claim_vehicle_brand'] = labelencoder.fit_transform(df['claim_vehicle_brand'])\n",
    "#df['claim_vehicle_brand'] =df['claim_vehicle_brand'].astype(float)\n",
    "#df['claim_vehicle_brand'] = df.claim_vehicle_brand.astype('category')\n",
    "df[\"claim_vehicle_brand\"] = df[\"claim_vehicle_brand\"].astype('category')\n",
    "df[\"claim_vehicle_brand\"] = df[\"claim_vehicle_brand\"].cat.codes.astype(float)\n",
    "df['claim_vehicle_type'] = labelencoder.fit_transform(df['claim_vehicle_type'])\n",
    "df['policy_holder_form'] = labelencoder.fit_transform(df['policy_holder_form'])\n",
    "df[\"policy_holder_form\"] = df[\"policy_holder_form\"].astype('category')\n",
    "df[\"policy_holder_form\"] = df[\"policy_holder_form\"].cat.codes.astype(float)\n",
    "df['policy_holder_country'] = labelencoder.fit_transform(df['policy_holder_country'])\n",
    "df[\"policy_holder_country\"] = df[\"policy_holder_country\"].astype('category')\n",
    "df[\"policy_holder_country\"] = df[\"policy_holder_country\"].cat.codes.astype(float)\n",
    "#df['driver_country'] = labelencoder.fit_transform(df['driver_country'])\n",
    "df[\"driver_country\"] = df[\"driver_country\"].astype('category')\n",
    "df[\"driver_country\"] = df[\"driver_country\"].cat.codes.astype(float)\n",
    "df['driver_injured'] = labelencoder.fit_transform(df['driver_injured'])\n",
    "\n",
    "#df['repair_form'] = labelencoder.fit_transform(df['repair_form'])\n",
    "df[\"repair_form\"] = df[\"repair_form\"].astype('category')\n",
    "df[\"repair_form\"] = df[\"repair_form\"].cat.codes.astype(float)\n",
    "\n",
    "df['repair_country'] = labelencoder.fit_transform(df['repair_country'])\n",
    "# df[\"repair_country\"] = df[\"repair_country\"].astype('category')\n",
    "# df[\"repair_country\"] = df[\"repair_country\"].cat.codes.astype(float)\n",
    "#df['repair_sla'] = labelencoder.fit_transform(df['repair_sla'])\n",
    "df[\"repair_sla\"] = df[\"repair_sla\"].astype('category')\n",
    "df[\"repair_sla\"] = df[\"repair_sla\"].cat.codes.astype(float)\n",
    "\n"
   ]
  },
  {
   "cell_type": "markdown",
   "id": "a45fd5dd",
   "metadata": {},
   "source": [
    "#### Go from string to labeled"
   ]
  },
  {
   "cell_type": "code",
   "execution_count": 13,
   "id": "b275d03c",
   "metadata": {},
   "outputs": [],
   "source": [
    "# Separate target and source variables\n",
    "\n",
    "y = df.fraud\n",
    "X = df.drop(['fraud','claim_amount','fraud_miss','claim_amount_miss', 'claim_date_registered_year', ], axis=1)\n",
    "# The 20 % of data is test size of the data \n",
    "X_train, X_test, y_train, y_test = train_test_split(X, y, test_size = 0.20, stratify=y)"
   ]
  },
  {
   "cell_type": "markdown",
   "id": "0f21f1e0",
   "metadata": {},
   "source": [
    "### Start de pipline"
   ]
  },
  {
   "cell_type": "code",
   "execution_count": 14,
   "id": "d37e5ef8",
   "metadata": {},
   "outputs": [
    {
     "data": {
      "text/plain": [
       "['claim_date_registered_month',\n",
       " 'claim_date_registered_day',\n",
       " 'claim_date_occured_dayweek',\n",
       " 'claim_date_occured_year',\n",
       " 'claim_date_occured_month',\n",
       " 'claim_date_occured_day',\n",
       " 'claim_vehicle_date_inuse_year',\n",
       " 'claim_vehicle_date_inuse_month',\n",
       " 'policy_date_start_year',\n",
       " 'policy_date_start_month',\n",
       " 'policy_date_next_expiry_year',\n",
       " 'policy_date_next_expiry_month',\n",
       " 'policy_date_last_renewed_year',\n",
       " 'policy_date_last_renewed_month',\n",
       " 'duration_claim_reg_occured',\n",
       " 'duration_claim_reg_policy_start',\n",
       " 'claim_date_registered_dayweek',\n",
       " 'policy_num_changes',\n",
       " 'policy_num_changes',\n",
       " 'repair_sla',\n",
       " 'repair_country',\n",
       " 'repair_year_birth',\n",
       " 'repair_form',\n",
       " 'repair_postal_code',\n",
       " 'driver_injured',\n",
       " 'driver_country',\n",
       " 'driver_year_birth',\n",
       " 'policy_holder_country',\n",
       " 'policy_holder_year_birth',\n",
       " 'policy_holder_form',\n",
       " 'policy_holder_postal_code',\n",
       " 'claim_vehicle_power',\n",
       " 'claim_vehicle_fuel_type',\n",
       " 'claim_vehicle_type',\n",
       " 'claim_vehicle_brand',\n",
       " 'claim_vehicle_id',\n",
       " 'claim_language',\n",
       " 'claim_alcohol',\n",
       " 'claim_police',\n",
       " 'claim_liable',\n",
       " 'claim_postal_code',\n",
       " 'claim_cause',\n",
       " 'claim_postal_code',\n",
       " 'claim_id_miss',\n",
       " 'claim_time_occured_miss',\n",
       " 'claim_postal_code_miss',\n",
       " 'claim_cause_miss',\n",
       " 'claim_liable_miss',\n",
       " 'claim_num_injured_miss',\n",
       " 'claim_num_third_parties_miss',\n",
       " 'claim_num_vehicles_miss',\n",
       " 'claim_police_miss',\n",
       " 'claim_alcohol_miss',\n",
       " 'claim_language_miss',\n",
       " 'claim_vehicle_id_miss',\n",
       " 'claim_vehicle_brand_miss',\n",
       " 'claim_vehicle_type_miss',\n",
       " 'claim_vehicle_cyl_miss',\n",
       " 'claim_vehicle_load_miss',\n",
       " 'claim_vehicle_fuel_type_miss',\n",
       " 'claim_vehicle_power_miss',\n",
       " 'policy_holder_id_miss',\n",
       " 'policy_holder_postal_code_miss',\n",
       " 'policy_holder_form_miss',\n",
       " 'policy_holder_year_birth_miss',\n",
       " 'policy_holder_country_miss',\n",
       " 'policy_holder_expert_id_miss',\n",
       " 'driver_id_miss',\n",
       " 'driver_postal_code_miss',\n",
       " 'driver_form_miss',\n",
       " 'driver_year_birth_miss',\n",
       " 'driver_country_miss',\n",
       " 'driver_expert_id_miss',\n",
       " 'driver_injured_miss',\n",
       " 'driver_vehicle_id_miss',\n",
       " 'third_party_1_id_miss',\n",
       " 'third_party_1_postal_code_miss',\n",
       " 'third_party_1_injured_miss',\n",
       " 'third_party_1_vehicle_type_miss',\n",
       " 'third_party_1_form_miss',\n",
       " 'third_party_1_year_birth_miss',\n",
       " 'third_party_1_country_miss',\n",
       " 'third_party_1_vehicle_id_miss',\n",
       " 'third_party_1_expert_id_miss',\n",
       " 'third_party_2_id_miss',\n",
       " 'third_party_2_postal_code_miss',\n",
       " 'third_party_2_injured_miss',\n",
       " 'third_party_2_vehicle_type_miss',\n",
       " 'third_party_2_form_miss',\n",
       " 'third_party_2_year_birth_miss',\n",
       " 'third_party_2_country_miss',\n",
       " 'third_party_2_vehicle_id_miss',\n",
       " 'third_party_2_expert_id_miss',\n",
       " 'third_party_3_id_miss',\n",
       " 'third_party_3_postal_code_miss',\n",
       " 'third_party_3_injured_miss',\n",
       " 'third_party_3_vehicle_type_miss',\n",
       " 'third_party_3_form_miss',\n",
       " 'third_party_3_year_birth_miss',\n",
       " 'third_party_3_country_miss',\n",
       " 'third_party_3_vehicle_id_miss',\n",
       " 'third_party_3_expert_id_miss',\n",
       " 'repair_id_miss',\n",
       " 'repair_postal_code_miss',\n",
       " 'repair_form_miss',\n",
       " 'repair_year_birth_miss',\n",
       " 'repair_country_miss',\n",
       " 'repair_sla_miss',\n",
       " 'policy_num_changes_miss',\n",
       " 'policy_num_claims_miss',\n",
       " 'policy_premium_100_miss',\n",
       " 'policy_coverage_1000_miss',\n",
       " 'policy_coverage_type_miss',\n",
       " 'claim_date_registered_dayweek_miss',\n",
       " 'claim_date_registered_year_miss',\n",
       " 'claim_date_registered_month_miss',\n",
       " 'claim_date_registered_day_miss',\n",
       " 'claim_date_occured_dayweek_miss',\n",
       " 'claim_date_occured_year_miss',\n",
       " 'claim_date_occured_month_miss',\n",
       " 'claim_date_occured_day_miss',\n",
       " 'claim_vehicle_date_inuse_year_miss',\n",
       " 'claim_vehicle_date_inuse_month_miss',\n",
       " 'policy_date_start_year_miss',\n",
       " 'policy_date_start_month_miss',\n",
       " 'policy_date_next_expiry_year_miss',\n",
       " 'policy_date_next_expiry_month_miss',\n",
       " 'policy_date_last_renewed_year_miss',\n",
       " 'policy_date_last_renewed_month_miss',\n",
       " 'duration_claim_reg_occured_miss',\n",
       " 'duration_claim_reg_policy_start_miss']"
      ]
     },
     "execution_count": 14,
     "metadata": {},
     "output_type": "execute_result"
    }
   ],
   "source": [
    "median_feats = ['policy_coverage_1000','policy_premium_100','claim_vehicle_load','claim_vehicle_cyl','claim_time_occured','claim_num_injured','claim_num_third_parties','claim_num_vehicles']\n",
    "most_freq_feats = ['claim_date_registered_month',\n",
    "                     'claim_date_registered_day',\n",
    "                     'claim_date_occured_dayweek',\n",
    "                     'claim_date_occured_year',\n",
    "                     'claim_date_occured_month',\n",
    "                     'claim_date_occured_day',\n",
    "                     'claim_vehicle_date_inuse_year',\n",
    "                     'claim_vehicle_date_inuse_month',\n",
    "                     'policy_date_start_year',\n",
    "                     'policy_date_start_month',\n",
    "                     'policy_date_next_expiry_year',\n",
    "                     'policy_date_next_expiry_month',\n",
    "                     'policy_date_last_renewed_year',\n",
    "                     'policy_date_last_renewed_month',\n",
    "                     'duration_claim_reg_occured',\n",
    "                     'duration_claim_reg_policy_start',\n",
    "                   'claim_date_registered_dayweek','policy_num_changes','policy_num_changes','repair_sla','repair_country','repair_year_birth','repair_form','repair_postal_code','driver_injured','driver_country','driver_year_birth','policy_holder_country','policy_holder_year_birth','policy_holder_form','policy_holder_postal_code','claim_vehicle_power','claim_vehicle_fuel_type','claim_vehicle_type','claim_vehicle_brand','claim_vehicle_id','claim_language','claim_alcohol','claim_police','claim_liable','claim_postal_code','claim_cause','claim_postal_code']\n",
    "most_freq_feats = most_freq_feats+miss_col\n",
    "hot_feats = ['claim_vehicle_brand','repair_form']\n",
    "most_freq_feats"
   ]
  },
  {
   "cell_type": "code",
   "execution_count": 15,
   "id": "daa2a83d",
   "metadata": {},
   "outputs": [],
   "source": [
    "pre_process = ColumnTransformer(remainder='drop', transformers=[\n",
    "                                ('impute_median', SimpleImputer(strategy='median'), median_feats),\n",
    "                                ('impute_most_freq', SimpleImputer(strategy='most_frequent'), most_freq_feats),\n",
    "                                ('one_hot',OneHotEncoder(),hot_feats)])\n",
    "#('one_hot',OneHotEncoder(),hot_feats)"
   ]
  },
  {
   "cell_type": "code",
   "execution_count": 16,
   "id": "c1984303",
   "metadata": {},
   "outputs": [],
   "source": [
    "model_pipeline = Pipeline(steps=[('pre_processing',pre_process),\n",
    "                                 ('random_forest', RandomForestClassifier(max_depth= 10, random_state=0))\n",
    "                                 ])"
   ]
  },
  {
   "cell_type": "code",
   "execution_count": 17,
   "id": "a645ef49",
   "metadata": {},
   "outputs": [],
   "source": [
    "#y_train=y_train.astype(float)\n",
    "m1 = model_pipeline.fit(X_train,y_train)"
   ]
  },
  {
   "cell_type": "code",
   "execution_count": 18,
   "id": "ad7796a6",
   "metadata": {},
   "outputs": [
    {
     "name": "stdout",
     "output_type": "stream",
     "text": [
      "0.994410889750293\n"
     ]
    },
    {
     "data": {
      "text/plain": [
       "array([[11031,     0],\n",
       "       [   62,     0]], dtype=int64)"
      ]
     },
     "execution_count": 18,
     "metadata": {},
     "output_type": "execute_result"
    }
   ],
   "source": [
    "# MSE = []\n",
    "# MSE.append(mean_squared_error(y_train,model_pipeline.predict(X_train))**0.5)\n",
    "# MSE\n",
    "\n",
    "# y_prediction =model_pipeline.predict(X_train)\n",
    "# accuracy_score(y_train, y_prediction)\n",
    "y_prediction =model_pipeline.predict(X_test)\n",
    "print(accuracy_score(y_test, y_prediction))\n",
    "confusion_matrix(y_test, y_prediction)"
   ]
  },
  {
   "cell_type": "code",
   "execution_count": null,
   "id": "97d38f5c",
   "metadata": {},
   "outputs": [],
   "source": [
    "# df.claim_date_occured_year.hist()\n",
    "# print((len(df.claim_date_occured_year.unique().tolist())))\n",
    "# print(df.claim_date_occured_year.dtypes)\n",
    "# print((df.claim_date_occured_year.isnull()).sum())"
   ]
  }
 ],
 "metadata": {
  "kernelspec": {
   "display_name": "Python 3",
   "language": "python",
   "name": "python3"
  },
  "language_info": {
   "codemirror_mode": {
    "name": "ipython",
    "version": 3
   },
   "file_extension": ".py",
   "mimetype": "text/x-python",
   "name": "python",
   "nbconvert_exporter": "python",
   "pygments_lexer": "ipython3",
   "version": "3.8.5"
  }
 },
 "nbformat": 4,
 "nbformat_minor": 5
}
